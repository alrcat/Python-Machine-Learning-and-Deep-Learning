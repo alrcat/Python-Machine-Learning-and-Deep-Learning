{
 "cells": [
  {
   "cell_type": "code",
   "execution_count": 5,
   "id": "c663e150",
   "metadata": {
    "scrolled": true
   },
   "outputs": [
    {
     "name": "stdout",
     "output_type": "stream",
     "text": [
      "[[0, 0], [1, 0], [0, 1], [1, 1]] 预测结果 [0 0 0 1]\n",
      "rate of correct: 1.0\n"
     ]
    },
    {
     "name": "stderr",
     "output_type": "stream",
     "text": [
      "D:\\Software\\Jupyter_Notebook\\Lib\\site-packages\\sklearn\\svm\\_classes.py:32: FutureWarning: The default value of `dual` will change from `True` to `'auto'` in 1.5. Set the value of `dual` explicitly to suppress the warning.\n",
      "  warnings.warn(\n"
     ]
    }
   ],
   "source": [
    "#AND算法\n",
    "from sklearn.svm import LinearSVC#学习包\n",
    "from sklearn.metrics import accuracy_score#检验包\n",
    "leaen_data=[[0,0],[1,0],[0,1],[1,1]]\n",
    "leaen_lable=[0,0,0,1]\n",
    "clf=LinearSVC()\n",
    "clf.fit(leaen_data,leaen_lable)#用模型学习\n",
    "\n",
    "test_data=[[0,0],[1,0],[0,1],[1,1]]\n",
    "test_lable=clf.predict(test_data)#预测\n",
    "\n",
    "print(test_data,\"预测结果\",test_lable)\n",
    "print(\"rate of correct:\",accuracy_score([0,0,0,1],test_lable))#检验"
   ]
  }
 ],
 "metadata": {
  "kernelspec": {
   "display_name": "Python 3 (ipykernel)",
   "language": "python",
   "name": "python3"
  },
  "language_info": {
   "codemirror_mode": {
    "name": "ipython",
    "version": 3
   },
   "file_extension": ".py",
   "mimetype": "text/x-python",
   "name": "python",
   "nbconvert_exporter": "python",
   "pygments_lexer": "ipython3",
   "version": "3.11.5"
  }
 },
 "nbformat": 4,
 "nbformat_minor": 5
}
